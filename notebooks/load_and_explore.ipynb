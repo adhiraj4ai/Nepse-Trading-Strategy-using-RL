{
 "cells": [
  {
   "cell_type": "code",
   "id": "initial_id",
   "metadata": {
    "collapsed": true,
    "ExecuteTime": {
     "end_time": "2024-12-01T16:20:19.419621Z",
     "start_time": "2024-12-01T16:20:19.006401Z"
    }
   },
   "source": "import pandas as pd",
   "outputs": [],
   "execution_count": 1
  },
  {
   "metadata": {},
   "cell_type": "markdown",
   "source": [
    "\n",
    "## Load the Data\n",
    "We now load the given data into pandas dataframe for analysis."
   ],
   "id": "c604ed970801472c"
  },
  {
   "metadata": {
    "ExecuteTime": {
     "end_time": "2024-12-01T16:20:19.443423Z",
     "start_time": "2024-12-01T16:20:19.434128Z"
    }
   },
   "cell_type": "code",
   "source": [
    "df = pd.read_csv(\"../data/sapdbl.csv\")\n",
    "\n",
    "# check top few rows of the data\n",
    "df.head()"
   ],
   "id": "96da68ed3752b8c4",
   "outputs": [
    {
     "data": {
      "text/plain": [
       "   Symbol        Date    Open    High    Low   Close Percent Change  \\\n",
       "0  SAPDBL  2024-12-01  1005.0  1122.0  986.9  1122.0        10.00 %   \n",
       "1  SAPDBL  2024-11-28  1008.6  1069.9  980.0  1020.0         3.14 %   \n",
       "2  SAPDBL  2024-11-27   895.0   988.9  881.2   988.9        10.00 %   \n",
       "3  SAPDBL  2024-11-26   909.5   933.0  891.4   899.0        -3.13 %   \n",
       "4  SAPDBL  2024-11-25   850.1   930.6  850.1   928.0         9.69 %   \n",
       "\n",
       "       Volume  \n",
       "0  137,536.00  \n",
       "1  114,676.00  \n",
       "2  239,586.00  \n",
       "3   67,864.00  \n",
       "4  130,587.00  "
      ],
      "text/html": [
       "<div>\n",
       "<style scoped>\n",
       "    .dataframe tbody tr th:only-of-type {\n",
       "        vertical-align: middle;\n",
       "    }\n",
       "\n",
       "    .dataframe tbody tr th {\n",
       "        vertical-align: top;\n",
       "    }\n",
       "\n",
       "    .dataframe thead th {\n",
       "        text-align: right;\n",
       "    }\n",
       "</style>\n",
       "<table border=\"1\" class=\"dataframe\">\n",
       "  <thead>\n",
       "    <tr style=\"text-align: right;\">\n",
       "      <th></th>\n",
       "      <th>Symbol</th>\n",
       "      <th>Date</th>\n",
       "      <th>Open</th>\n",
       "      <th>High</th>\n",
       "      <th>Low</th>\n",
       "      <th>Close</th>\n",
       "      <th>Percent Change</th>\n",
       "      <th>Volume</th>\n",
       "    </tr>\n",
       "  </thead>\n",
       "  <tbody>\n",
       "    <tr>\n",
       "      <th>0</th>\n",
       "      <td>SAPDBL</td>\n",
       "      <td>2024-12-01</td>\n",
       "      <td>1005.0</td>\n",
       "      <td>1122.0</td>\n",
       "      <td>986.9</td>\n",
       "      <td>1122.0</td>\n",
       "      <td>10.00 %</td>\n",
       "      <td>137,536.00</td>\n",
       "    </tr>\n",
       "    <tr>\n",
       "      <th>1</th>\n",
       "      <td>SAPDBL</td>\n",
       "      <td>2024-11-28</td>\n",
       "      <td>1008.6</td>\n",
       "      <td>1069.9</td>\n",
       "      <td>980.0</td>\n",
       "      <td>1020.0</td>\n",
       "      <td>3.14 %</td>\n",
       "      <td>114,676.00</td>\n",
       "    </tr>\n",
       "    <tr>\n",
       "      <th>2</th>\n",
       "      <td>SAPDBL</td>\n",
       "      <td>2024-11-27</td>\n",
       "      <td>895.0</td>\n",
       "      <td>988.9</td>\n",
       "      <td>881.2</td>\n",
       "      <td>988.9</td>\n",
       "      <td>10.00 %</td>\n",
       "      <td>239,586.00</td>\n",
       "    </tr>\n",
       "    <tr>\n",
       "      <th>3</th>\n",
       "      <td>SAPDBL</td>\n",
       "      <td>2024-11-26</td>\n",
       "      <td>909.5</td>\n",
       "      <td>933.0</td>\n",
       "      <td>891.4</td>\n",
       "      <td>899.0</td>\n",
       "      <td>-3.13 %</td>\n",
       "      <td>67,864.00</td>\n",
       "    </tr>\n",
       "    <tr>\n",
       "      <th>4</th>\n",
       "      <td>SAPDBL</td>\n",
       "      <td>2024-11-25</td>\n",
       "      <td>850.1</td>\n",
       "      <td>930.6</td>\n",
       "      <td>850.1</td>\n",
       "      <td>928.0</td>\n",
       "      <td>9.69 %</td>\n",
       "      <td>130,587.00</td>\n",
       "    </tr>\n",
       "  </tbody>\n",
       "</table>\n",
       "</div>"
      ]
     },
     "execution_count": 2,
     "metadata": {},
     "output_type": "execute_result"
    }
   ],
   "execution_count": 2
  },
  {
   "metadata": {},
   "cell_type": "markdown",
   "source": "## Exploratory Data Analysis",
   "id": "c760b60e04963335"
  },
  {
   "metadata": {
    "ExecuteTime": {
     "end_time": "2024-12-01T16:20:19.529870Z",
     "start_time": "2024-12-01T16:20:19.525052Z"
    }
   },
   "cell_type": "code",
   "source": [
    "# Check bottom rows of the data\n",
    "df.tail()"
   ],
   "id": "ab06a2732d56d1cc",
   "outputs": [
    {
     "data": {
      "text/plain": [
       "     Symbol        Date   Open   High    Low  Close Percent Change     Volume\n",
       "208  SAPDBL  2024-01-07  242.0  244.0  237.3  240.0        -1.64 %  12,468.00\n",
       "209  SAPDBL  2024-01-04  245.0  248.0  241.0  244.0        -0.41 %  10,372.00\n",
       "210  SAPDBL  2024-01-03  244.0  250.0  242.0  245.0         0.00 %   8,097.00\n",
       "211  SAPDBL  2024-01-02  249.9  250.0  240.1  245.0         0.00 %   4,091.00\n",
       "212  SAPDBL  2024-01-01  250.0  250.0  244.0  245.0        -1.57 %  12,821.00"
      ],
      "text/html": [
       "<div>\n",
       "<style scoped>\n",
       "    .dataframe tbody tr th:only-of-type {\n",
       "        vertical-align: middle;\n",
       "    }\n",
       "\n",
       "    .dataframe tbody tr th {\n",
       "        vertical-align: top;\n",
       "    }\n",
       "\n",
       "    .dataframe thead th {\n",
       "        text-align: right;\n",
       "    }\n",
       "</style>\n",
       "<table border=\"1\" class=\"dataframe\">\n",
       "  <thead>\n",
       "    <tr style=\"text-align: right;\">\n",
       "      <th></th>\n",
       "      <th>Symbol</th>\n",
       "      <th>Date</th>\n",
       "      <th>Open</th>\n",
       "      <th>High</th>\n",
       "      <th>Low</th>\n",
       "      <th>Close</th>\n",
       "      <th>Percent Change</th>\n",
       "      <th>Volume</th>\n",
       "    </tr>\n",
       "  </thead>\n",
       "  <tbody>\n",
       "    <tr>\n",
       "      <th>208</th>\n",
       "      <td>SAPDBL</td>\n",
       "      <td>2024-01-07</td>\n",
       "      <td>242.0</td>\n",
       "      <td>244.0</td>\n",
       "      <td>237.3</td>\n",
       "      <td>240.0</td>\n",
       "      <td>-1.64 %</td>\n",
       "      <td>12,468.00</td>\n",
       "    </tr>\n",
       "    <tr>\n",
       "      <th>209</th>\n",
       "      <td>SAPDBL</td>\n",
       "      <td>2024-01-04</td>\n",
       "      <td>245.0</td>\n",
       "      <td>248.0</td>\n",
       "      <td>241.0</td>\n",
       "      <td>244.0</td>\n",
       "      <td>-0.41 %</td>\n",
       "      <td>10,372.00</td>\n",
       "    </tr>\n",
       "    <tr>\n",
       "      <th>210</th>\n",
       "      <td>SAPDBL</td>\n",
       "      <td>2024-01-03</td>\n",
       "      <td>244.0</td>\n",
       "      <td>250.0</td>\n",
       "      <td>242.0</td>\n",
       "      <td>245.0</td>\n",
       "      <td>0.00 %</td>\n",
       "      <td>8,097.00</td>\n",
       "    </tr>\n",
       "    <tr>\n",
       "      <th>211</th>\n",
       "      <td>SAPDBL</td>\n",
       "      <td>2024-01-02</td>\n",
       "      <td>249.9</td>\n",
       "      <td>250.0</td>\n",
       "      <td>240.1</td>\n",
       "      <td>245.0</td>\n",
       "      <td>0.00 %</td>\n",
       "      <td>4,091.00</td>\n",
       "    </tr>\n",
       "    <tr>\n",
       "      <th>212</th>\n",
       "      <td>SAPDBL</td>\n",
       "      <td>2024-01-01</td>\n",
       "      <td>250.0</td>\n",
       "      <td>250.0</td>\n",
       "      <td>244.0</td>\n",
       "      <td>245.0</td>\n",
       "      <td>-1.57 %</td>\n",
       "      <td>12,821.00</td>\n",
       "    </tr>\n",
       "  </tbody>\n",
       "</table>\n",
       "</div>"
      ]
     },
     "execution_count": 3,
     "metadata": {},
     "output_type": "execute_result"
    }
   ],
   "execution_count": 3
  },
  {
   "metadata": {
    "ExecuteTime": {
     "end_time": "2024-12-01T16:20:19.569246Z",
     "start_time": "2024-12-01T16:20:19.566900Z"
    }
   },
   "cell_type": "code",
   "source": [
    "# check shape of the data\n",
    "df.shape"
   ],
   "id": "4fd46024e84e94",
   "outputs": [
    {
     "data": {
      "text/plain": [
       "(213, 8)"
      ]
     },
     "execution_count": 4,
     "metadata": {},
     "output_type": "execute_result"
    }
   ],
   "execution_count": 4
  },
  {
   "metadata": {
    "ExecuteTime": {
     "end_time": "2024-12-01T16:20:19.645689Z",
     "start_time": "2024-12-01T16:20:19.641389Z"
    }
   },
   "cell_type": "code",
   "source": [
    "# check info of the data to check the data type and ensure if any column has null data or not\n",
    "df.info()"
   ],
   "id": "5914d020695b8aa",
   "outputs": [
    {
     "name": "stdout",
     "output_type": "stream",
     "text": [
      "<class 'pandas.core.frame.DataFrame'>\n",
      "RangeIndex: 213 entries, 0 to 212\n",
      "Data columns (total 8 columns):\n",
      " #   Column          Non-Null Count  Dtype  \n",
      "---  ------          --------------  -----  \n",
      " 0   Symbol          213 non-null    object \n",
      " 1   Date            213 non-null    object \n",
      " 2   Open            213 non-null    float64\n",
      " 3   High            213 non-null    float64\n",
      " 4   Low             213 non-null    float64\n",
      " 5   Close           213 non-null    float64\n",
      " 6   Percent Change  213 non-null    object \n",
      " 7   Volume          213 non-null    object \n",
      "dtypes: float64(4), object(4)\n",
      "memory usage: 13.4+ KB\n"
     ]
    }
   ],
   "execution_count": 5
  },
  {
   "metadata": {
    "ExecuteTime": {
     "end_time": "2024-12-01T16:20:19.743137Z",
     "start_time": "2024-12-01T16:20:19.736642Z"
    }
   },
   "cell_type": "code",
   "source": [
    "# check summary of the data\n",
    "df.describe()"
   ],
   "id": "c014bdaf0430bd95",
   "outputs": [
    {
     "data": {
      "text/plain": [
       "             Open         High         Low        Close\n",
       "count   213.00000   213.000000  213.000000   213.000000\n",
       "mean    412.76385   425.965258  403.039906   414.555399\n",
       "std     161.05203   171.463298  157.350279   167.220875\n",
       "min     238.00000   244.000000  237.000000   240.000000\n",
       "25%     290.40000   297.800000  285.500000   289.000000\n",
       "50%     340.00000   352.500000  330.000000   338.000000\n",
       "75%     505.00000   534.900000  501.000000   509.700000\n",
       "max    1008.60000  1122.000000  986.900000  1122.000000"
      ],
      "text/html": [
       "<div>\n",
       "<style scoped>\n",
       "    .dataframe tbody tr th:only-of-type {\n",
       "        vertical-align: middle;\n",
       "    }\n",
       "\n",
       "    .dataframe tbody tr th {\n",
       "        vertical-align: top;\n",
       "    }\n",
       "\n",
       "    .dataframe thead th {\n",
       "        text-align: right;\n",
       "    }\n",
       "</style>\n",
       "<table border=\"1\" class=\"dataframe\">\n",
       "  <thead>\n",
       "    <tr style=\"text-align: right;\">\n",
       "      <th></th>\n",
       "      <th>Open</th>\n",
       "      <th>High</th>\n",
       "      <th>Low</th>\n",
       "      <th>Close</th>\n",
       "    </tr>\n",
       "  </thead>\n",
       "  <tbody>\n",
       "    <tr>\n",
       "      <th>count</th>\n",
       "      <td>213.00000</td>\n",
       "      <td>213.000000</td>\n",
       "      <td>213.000000</td>\n",
       "      <td>213.000000</td>\n",
       "    </tr>\n",
       "    <tr>\n",
       "      <th>mean</th>\n",
       "      <td>412.76385</td>\n",
       "      <td>425.965258</td>\n",
       "      <td>403.039906</td>\n",
       "      <td>414.555399</td>\n",
       "    </tr>\n",
       "    <tr>\n",
       "      <th>std</th>\n",
       "      <td>161.05203</td>\n",
       "      <td>171.463298</td>\n",
       "      <td>157.350279</td>\n",
       "      <td>167.220875</td>\n",
       "    </tr>\n",
       "    <tr>\n",
       "      <th>min</th>\n",
       "      <td>238.00000</td>\n",
       "      <td>244.000000</td>\n",
       "      <td>237.000000</td>\n",
       "      <td>240.000000</td>\n",
       "    </tr>\n",
       "    <tr>\n",
       "      <th>25%</th>\n",
       "      <td>290.40000</td>\n",
       "      <td>297.800000</td>\n",
       "      <td>285.500000</td>\n",
       "      <td>289.000000</td>\n",
       "    </tr>\n",
       "    <tr>\n",
       "      <th>50%</th>\n",
       "      <td>340.00000</td>\n",
       "      <td>352.500000</td>\n",
       "      <td>330.000000</td>\n",
       "      <td>338.000000</td>\n",
       "    </tr>\n",
       "    <tr>\n",
       "      <th>75%</th>\n",
       "      <td>505.00000</td>\n",
       "      <td>534.900000</td>\n",
       "      <td>501.000000</td>\n",
       "      <td>509.700000</td>\n",
       "    </tr>\n",
       "    <tr>\n",
       "      <th>max</th>\n",
       "      <td>1008.60000</td>\n",
       "      <td>1122.000000</td>\n",
       "      <td>986.900000</td>\n",
       "      <td>1122.000000</td>\n",
       "    </tr>\n",
       "  </tbody>\n",
       "</table>\n",
       "</div>"
      ]
     },
     "execution_count": 6,
     "metadata": {},
     "output_type": "execute_result"
    }
   ],
   "execution_count": 6
  },
  {
   "metadata": {},
   "cell_type": "markdown",
   "source": "The above summaries shows that the the price of SAPDBL has minimum price value of Rs. 244 and maximum value of Rs. 2440 in last 11 months. We have got data from 2024 Jan 1 to 2024 Dec 1 only. The average high price have been 425 in past 11 months and average low price have been 403 in past 11 months.",
   "id": "6e0141ac88e13c64"
  },
  {
   "metadata": {
    "ExecuteTime": {
     "end_time": "2024-12-01T16:21:07.257771Z",
     "start_time": "2024-12-01T16:21:07.251594Z"
    }
   },
   "cell_type": "code",
   "source": [
    "# add date to the index of dataframe\n",
    "df['Date'] = pd.to_datetime(df['Date'])\n",
    "df.set_index('Date', inplace=True)"
   ],
   "id": "d723ab8bef32c5c0",
   "outputs": [],
   "execution_count": 10
  },
  {
   "metadata": {
    "ExecuteTime": {
     "end_time": "2024-12-01T16:21:08.906793Z",
     "start_time": "2024-12-01T16:21:08.835977Z"
    }
   },
   "cell_type": "code",
   "source": "df['Close'].plot()",
   "id": "9714f3de066570d4",
   "outputs": [
    {
     "data": {
      "text/plain": [
       "<Axes: xlabel='Date'>"
      ]
     },
     "execution_count": 11,
     "metadata": {},
     "output_type": "execute_result"
    },
    {
     "data": {
      "text/plain": [
       "<Figure size 640x480 with 1 Axes>"
      ],
      "image/png": "[encoded data removed]"
     },
     "metadata": {},
     "output_type": "display_data"
    }
   ],
   "execution_count": 11
  },
  {
   "metadata": {},
   "cell_type": "markdown",
   "source": "The above plot shows the closing price of SAPDBL over the last 11 months in increasing trend from 2024 Jan 1 to 2024 Dec 1.",
   "id": "83d7464c24c48018"
  }
 ],
 "metadata": {
  "kernelspec": {
   "display_name": "Python 3",
   "language": "python",
   "name": "python3"
  },
  "language_info": {
   "codemirror_mode": {
    "name": "ipython",
    "version": 2
   },
   "file_extension": ".py",
   "mimetype": "text/x-python",
   "name": "python",
   "nbconvert_exporter": "python",
   "pygments_lexer": "ipython2",
   "version": "2.7.6"
  }
 },
 "nbformat": 4,
 "nbformat_minor": 5
}
